{
  "nbformat": 4,
  "nbformat_minor": 0,
  "metadata": {
    "colab": {
      "name": "Computing_GC_Content.ipynb",
      "provenance": [],
      "authorship_tag": "ABX9TyOjJ59dz5GH9L5OvNavj/Xx",
      "include_colab_link": true
    },
    "kernelspec": {
      "name": "python3",
      "display_name": "Python 3"
    },
    "language_info": {
      "name": "python"
    }
  },
  "cells": [
    {
      "cell_type": "markdown",
      "metadata": {
        "id": "view-in-github",
        "colab_type": "text"
      },
      "source": [
        "<a href=\"https://colab.research.google.com/github/Renata-Thomazelli/ROSALIND_Bioinformatcs_stronghold_Computing_GC_Content/blob/main/Computing_GC_Content.ipynb\" target=\"_parent\"><img src=\"https://colab.research.google.com/assets/colab-badge.svg\" alt=\"Open In Colab\"/></a>"
      ]
    },
    {
      "cell_type": "code",
      "metadata": {
        "colab": {
          "base_uri": "https://localhost:8080/"
        },
        "id": "VL_c4jBt-bPN",
        "outputId": "a9d5b7c8-5edc-48bd-eb2a-06df924a74ec"
      },
      "source": [
        "from google.colab import drive\n",
        "\n",
        "drive.mount('/content/drive')\n"
      ],
      "execution_count": 4,
      "outputs": [
        {
          "output_type": "stream",
          "text": [
            "Mounted at /content/drive\n"
          ],
          "name": "stdout"
        }
      ]
    },
    {
      "cell_type": "code",
      "metadata": {
        "id": "OpuIWnBo-b82"
      },
      "source": [
        "##ARQUIVO FINAL##\n",
        "import re\n",
        "from itertools import dropwhile, takewhile\n",
        "from functools import reduce\n",
        "\n",
        "class Computer_GC:\n",
        "    \"\"\"Describing a GC Content\"\"\"\n",
        "\n",
        "    def __init__(self,file_name,pattern):\n",
        "        \"\"\"Initialize the file attributes\"\"\"\n",
        "        self.file_name = file_name\n",
        "        self.pattern = pattern\n",
        "        \n",
        "                \n",
        "    def building_list_values(self):\n",
        "      \"\"\"Initialize a lista of values to the final dictionary\"\"\"\n",
        "      with open (self.file_name,'r') as lines:\n",
        "            next(lines)\n",
        "            size = 1\n",
        "            self.list_of_values_1 = []\n",
        "            while size>0 :\n",
        "\n",
        "                if size <0:\n",
        "                    break\n",
        "\n",
        "                else:\n",
        "                    lista_of_values = (list(takewhile(lambda line_v: line_v.startswith('>')== False,lines)))\n",
        "                    #print(f\"\\n\\n*This is the list {lista_of_values}\")\n",
        "                    valor = ''.join(lista_of_values).replace('\\n','')\n",
        "                    self.list_of_values_1.append(valor)\n",
        "                    #print(f\"\\n**___: and this is the value: *** {valor}***\")\n",
        "          \n",
        "                    size= len(valor)    \n",
        "  \n",
        "                    #print(size)\n",
        "  \n",
        "            return(self.list_of_values_1)\n",
        "            \n",
        "            \n",
        "    def building_list_of_keys(self):\n",
        "        \"\"\"Initialize a lista of keys to the final dictionary\"\"\"\n",
        "        self.lista_of_keys_1=[]\n",
        "        with open (self.file_name,'r') as lines:\n",
        "            lines_keys  = lines.readlines()\n",
        "            lista_of_keys =list(filter(lambda line_k: line_k.startswith('>')== True,lines_keys))\n",
        "            self.lista_of_keys_1 =[line[1:-1] for line in lista_of_keys]\n",
        "        return (self.lista_of_keys_1)\n",
        "\n",
        "        #return (self.lista_of_keys_1)\n",
        "           \n",
        "    \n",
        "\n",
        "    def building_dict (self):\n",
        "        \"\"\"This function build the final dicitonary\"\"\"\n",
        "        self.dicionario={}\n",
        "        dicionario={}\n",
        "        listas = list(zip(self.lista_of_keys_1,self.list_of_values_1)) \n",
        "        #print(listas)\n",
        "        for item in listas:\n",
        "            self.dicionario[item[0]]=item[1]\n",
        "            #print(dicionario)\n",
        "        return self.dicionario.items()\n",
        "                           \n",
        "         \n",
        "    def finding_percent(self):\n",
        "        \"\"\"Finding the percent of the value in our dicitionary\"\"\"\n",
        "        self.new_dict={}\n",
        "        for k,v in self.dicionario.items():\n",
        "            counter = 0\n",
        "            total_content = len(v)\n",
        "            for match in re.findall(self.pattern, v ):\n",
        "                counter +=1\n",
        "                percent = (counter/total_content)*100\n",
        "                self.new_dict[k] = percent\n",
        "        return self.new_dict.items()\n",
        "           \n",
        "    \n",
        "    def maximum_percent(self):\n",
        "        \"\"\"Finding the max percent an its key\"\"\"\n",
        "        self.new_dictionary = self.new_dict\n",
        "        max_percent = max(zip(self.new_dictionary.values(),self.new_dictionary.keys()))\n",
        "        percentual = round(max_percent[0],6)\n",
        "        print(f\"{max_percent[1]}\\n{percentual}\")\n",
        " \n",
        "        #return max_percent\n",
        "    \n",
        "    \n",
        "    "
      ],
      "execution_count": 57,
      "outputs": []
    },
    {
      "cell_type": "code",
      "metadata": {
        "colab": {
          "base_uri": "https://localhost:8080/"
        },
        "id": "6w5CQGeH-5Dr",
        "outputId": "c9e5ef4e-3b9e-4043-dfe4-9d89267461cb"
      },
      "source": [
        "my_file = \"/content/drive/MyDrive/CursoPythonFundamentos/Rosalind_problems/rosalind_gc.txt\"\n",
        "rosalind_text = Computer_GC(file_name = my_file,pattern = 'G|C')\n",
        "\n",
        "\n",
        "rosalind_text.building_list_values()\n",
        "rosalind_text.building_list_of_keys()\n",
        "\n",
        "rosalind_text.building_dict()\n",
        "rosalind_text.finding_percent()\n",
        "rosalind_text.maximum_percent()\n"
      ],
      "execution_count": 58,
      "outputs": [
        {
          "output_type": "stream",
          "text": [
            "Rosalind_3405\n",
            "51.435132\n"
          ],
          "name": "stdout"
        }
      ]
    }
  ]
}